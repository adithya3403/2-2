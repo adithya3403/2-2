{
 "cells": [
  {
   "cell_type": "markdown",
   "metadata": {},
   "source": [
    "# `NFS`"
   ]
  },
  {
   "cell_type": "markdown",
   "metadata": {},
   "source": [
    "DAY 1"
   ]
  },
  {
   "cell_type": "code",
   "execution_count": 5,
   "metadata": {},
   "outputs": [
    {
     "name": "stdout",
     "output_type": "stream",
     "text": [
      "7 7 7 6 5 5 4 4 3 2 1 1 "
     ]
    }
   ],
   "source": [
    "# PROGRAM 1\n",
    "\n",
    "strnum = input()\n",
    "n = len(strnum)\n",
    "for i in range(1, n + 1):\n",
    "    count = 0\n",
    "    for j in range(i - 1, n):\n",
    "        if int(strnum[j]) % 2 == 0:\n",
    "            count += 1\n",
    "    print(count, end=' ')\n",
    "\n",
    "# Input\n",
    "# 352454324472\n",
    "# Output\n",
    "# 7 7 7 6 5 5 4 4 3 2 1 1\n"
   ]
  },
  {
   "cell_type": "code",
   "execution_count": 4,
   "metadata": {},
   "outputs": [
    {
     "name": "stdout",
     "output_type": "stream",
     "text": [
      "93\n"
     ]
    }
   ],
   "source": [
    "# PROGRAM 2\n",
    "\n",
    "n = int(input())\n",
    "l = list(map(int, input().split()))\n",
    "l.sort()\n",
    "l.reverse()\n",
    "for i in range(n):\n",
    "    l[i] *= (2**i)\n",
    "print(sum(l))\n",
    "\n",
    "# Input\n",
    "# 4\n",
    "# 9 6 11 5\n",
    "# Output\n",
    "# 93"
   ]
  }
 ],
 "metadata": {
  "interpreter": {
   "hash": "e543ab9b8c4f075df23c749398311b23b31acc3b527c15251293494edac362a5"
  },
  "kernelspec": {
   "display_name": "Python 3.9.6 64-bit",
   "language": "python",
   "name": "python3"
  },
  "language_info": {
   "codemirror_mode": {
    "name": "ipython",
    "version": 3
   },
   "file_extension": ".py",
   "mimetype": "text/x-python",
   "name": "python",
   "nbconvert_exporter": "python",
   "pygments_lexer": "ipython3",
   "version": "3.9.6"
  },
  "orig_nbformat": 4
 },
 "nbformat": 4,
 "nbformat_minor": 2
}
